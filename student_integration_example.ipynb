{
  "cells": [
    {
      "cell_type": "markdown",
      "metadata": {},
      "source": [
        "# 🎓 Student Integration Example\n",
        "\n",
        "This notebook demonstrates how students can import and use the Quantum Network Simulator in their own projects.\n",
        "\n",
        "## 🚀 Quick Start\n",
        "\n",
        "Run the setup cell below, then start experimenting with quantum networking!\n"
      ]
    },
    {
      "cell_type": "code",
      "execution_count": null,
      "metadata": {},
      "outputs": [],
      "source": [
        "# 📦 Setup: Import the Quantum Network Simulator\n",
        "# Choose ONE of the methods below:\n",
        "\n",
        "# Method 1: Clone from GitHub (recommended for Binder/Colab)\n",
        "import subprocess\n",
        "import sys\n",
        "import os\n",
        "\n",
        "# Only clone if not already present\n",
        "if not os.path.exists('quantum_sim'):\n",
        "    !git clone https://github.com/prateek780/qsimnotebookk.git quantum_sim\n",
        "    print(\"✅ Quantum simulator downloaded!\")\n",
        "else:\n",
        "    print(\"✅ Quantum simulator already available!\")\n",
        "\n",
        "# Add to Python path\n",
        "if './quantum_sim' not in sys.path:\n",
        "    sys.path.append('./quantum_sim')\n",
        "    \n",
        "print(\"🔧 Setup complete!\")\n"
      ]
    }
  ],
  "metadata": {
    "language_info": {
      "name": "python"
    }
  },
  "nbformat": 4,
  "nbformat_minor": 2
}
